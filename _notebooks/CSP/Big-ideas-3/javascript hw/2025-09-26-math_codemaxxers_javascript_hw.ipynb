{
 "cells": [
  {
   "cell_type": "raw",
   "id": "6290bcd2",
   "metadata": {
    "vscode": {
     "languageId": "raw"
    }
   },
   "source": [
    "---\n",
    "title: \"Mathematical Operations in Javascript and Python - Hacks\"\n",
    "description: \"Apply your skills of math, logic, and coding.\"\n",
    "layout: post\n",
    "permalink: /javascript/mathematical-expressions/codemaxxers-hw\n",
    "---"
   ]
  },
  {
   "cell_type": "markdown",
   "id": "d98b569e",
   "metadata": {},
   "source": [
    "# Basic Algebraic Math hacks\n",
    "\n",
    "## Q1 (Exponents):\n",
    "### A cube has a side length of 6 units. What is its volume?"
   ]
  },
  {
   "cell_type": "code",
   "execution_count": 4,
   "id": "235ceb13",
   "metadata": {
    "vscode": {
     "languageId": "javascript"
    }
   },
   "outputs": [
    {
     "data": {
      "application/javascript": "\n// Define the side length\nlet side = 6;\n\n// Formula for volume of a cube: side³\nlet volume = side ** 3;\n\n// Print result\nconsole.log(\"The volume of the cube is:\", volume);\n",
      "text/plain": [
       "<IPython.core.display.Javascript object>"
      ]
     },
     "metadata": {},
     "output_type": "display_data"
    }
   ],
   "source": [
    "%%js\n",
    "\n",
    "// Define the side length\n",
    "let side = 6;\n",
    "\n",
    "// Formula for volume of a cube: side³\n",
    "let volume = side ** 3;\n",
    "\n",
    "// Print result\n",
    "console.log(\"The volume of the cube is:\", volume);\n"
   ]
  },
  {
   "cell_type": "markdown",
   "id": "3fb1dd4d",
   "metadata": {},
   "source": [
    "## Q2 (PEMDAS):\n",
    "### Evaluate the expression: \n",
    "\n",
    "(7+14)*5/12 + 2"
   ]
  },
  {
   "cell_type": "code",
   "execution_count": 5,
   "id": "49d712a3",
   "metadata": {
    "vscode": {
     "languageId": "javascript"
    }
   },
   "outputs": [
    {
     "data": {
      "application/javascript": "\n// Calculate (7 + 14) * 5 / 12 + 2\nlet result = (7 + 14) * 5 / 12 + 2;\n\nconsole.log(\"Result:\", result);\n",
      "text/plain": [
       "<IPython.core.display.Javascript object>"
      ]
     },
     "metadata": {},
     "output_type": "display_data"
    }
   ],
   "source": [
    "%%js\n",
    "\n",
    "// Calculate (7 + 14) * 5 / 12 + 2\n",
    "let result = (7 + 14) * 5 / 12 + 2;\n",
    "\n",
    "console.log(\"Result:\", result);\n"
   ]
  },
  {
   "cell_type": "markdown",
   "id": "fcaa4762",
   "metadata": {},
   "source": [
    "## Q3 (Algorithm): \n",
    "\n",
    "Write JavaScript  code where you define variables and run commands that find the values of operations you apply onto them"
   ]
  },
  {
   "cell_type": "code",
   "execution_count": 7,
   "id": "0a2081a9",
   "metadata": {
    "vscode": {
     "languageId": "javascript"
    }
   },
   "outputs": [
    {
     "data": {
      "application/javascript": "\n// Define variables\nlet a = 7;\nlet b = 14;\nlet c = 5;\nlet d = 12;\nlet e = 2;\n\n// Perform operations step by step\nlet sum_ab = a + b;         // addition\nlet multiply = sum_ab * c;  // multiplication\nlet divide = multiply / d;  // division\nlet final_result = divide + e; // add last part\n\n// Print results\nconsole.log(\"a + b =\", sum_ab);\nconsole.log(\"(a + b) * c =\", multiply);\nconsole.log(\"((a + b) * c) / d =\", divide);\nconsole.log(\"Final result =\", final_result);\n",
      "text/plain": [
       "<IPython.core.display.Javascript object>"
      ]
     },
     "metadata": {},
     "output_type": "display_data"
    }
   ],
   "source": [
    "%%js\n",
    "\n",
    "// Define variables\n",
    "let a = 7;\n",
    "let b = 14;\n",
    "let c = 5;\n",
    "let d = 12;\n",
    "let e = 2;\n",
    "\n",
    "// Perform operations step by step\n",
    "let sum_ab = a + b;         // addition\n",
    "let multiply = sum_ab * c;  // multiplication\n",
    "let divide = multiply / d;  // division\n",
    "let final_result = divide + e; // add last part\n",
    "\n",
    "// Print results\n",
    "console.log(\"a + b =\", sum_ab);\n",
    "console.log(\"(a + b) * c =\", multiply);\n",
    "console.log(\"((a + b) * c) / d =\", divide);\n",
    "console.log(\"Final result =\", final_result);\n"
   ]
  },
  {
   "cell_type": "markdown",
   "id": "7927eeac",
   "metadata": {},
   "source": [
    "<img src=\"/images/3_3diagram.png\" alt=\"Diagram showing mathematical operations\" style=\"max-width:300px; margin:10px;\">\n"
   ]
  }
 ],
 "metadata": {
  "kernelspec": {
   "display_name": "venv",
   "language": "python",
   "name": "python3"
  },
  "language_info": {
   "codemirror_mode": {
    "name": "ipython",
    "version": 3
   },
   "file_extension": ".py",
   "mimetype": "text/x-python",
   "name": "python",
   "nbconvert_exporter": "python",
   "pygments_lexer": "ipython3",
   "version": "3.12.3"
  }
 },
 "nbformat": 4,
 "nbformat_minor": 5
}
