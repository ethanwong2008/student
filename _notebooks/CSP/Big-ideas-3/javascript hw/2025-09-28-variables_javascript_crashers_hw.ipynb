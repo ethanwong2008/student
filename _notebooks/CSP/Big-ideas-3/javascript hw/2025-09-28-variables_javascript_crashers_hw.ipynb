{
 "cells": [
  {
   "cell_type": "raw",
   "id": "f7d70aa2",
   "metadata": {
    "vscode": {
     "languageId": "raw"
    }
   },
   "source": [
    "---\n",
    "layout: post\n",
    "title: \"3.1 Variables & Assignments hacks\"\n",
    "categories: [Programming Fundamentals, Tutorial]\n",
    "tags: [python, javascript, variables, assignment, beginner]\n",
    "description: Apply your understanding of Variables & Assignments with these hacks\n",
    "author: Aditya Srivastava, Laya Balaji\n",
    "permalink: /javascript/variables/crashers-hw\n",
    "---"
   ]
  },
  {
   "cell_type": "markdown",
   "id": "ce56910b",
   "metadata": {},
   "source": [
    "# 🐷 Peppa Maze Variables & Assignments Hacks\n",
    "Welcome to the Peppa Maze hacks! These challenges will test your understanding of variables, assignments, and logic in Javascript. Read each task, then write or modify code to solve it."
   ]
  },
  {
   "cell_type": "markdown",
   "id": "7dee3bb5",
   "metadata": {},
   "source": [
    "## Hack 1: JavaScript - Variable Assignment, Naming, and Operators\n",
    "Create variables for Peppa's name, score, and level using good JavaScript naming conventions. Assign initial values, then use operators to update score (add 10) and level (multiply by 2). Print all results."
   ]
  },
  {
   "cell_type": "code",
   "execution_count": 2,
   "id": "e4bee113",
   "metadata": {
    "vscode": {
     "languageId": "javascript"
    }
   },
   "outputs": [
    {
     "data": {
      "application/javascript": "\n// Write your code here\n// Create variables for Peppa's name, score, and level\n// Use operators to update score and level\n\n// Step 1: Create variables with good naming\nlet peppaName = \"Peppa\";   // string for name\nlet peppaScore = 50;       // starting score\nlet peppaLevel = 1;        // starting level\n\n// Step 2: Use operators to update score and level\npeppaScore = peppaScore + 10;  // increase score by 10\npeppaLevel = peppaLevel * 2;   // double the level\n\n// Step 3: Print results\nconsole.log(\"Name:\", peppaName);\nconsole.log(\"Score:\", peppaScore);\nconsole.log(\"Level:\", peppaLevel);\n",
      "text/plain": [
       "<IPython.core.display.Javascript object>"
      ]
     },
     "metadata": {},
     "output_type": "display_data"
    }
   ],
   "source": [
    "%%js\n",
    "\n",
    "// Write your code here\n",
    "// Create variables for Peppa's name, score, and level\n",
    "// Use operators to update score and level\n",
    "\n",
    "// Step 1: Create variables with good naming\n",
    "let peppaName = \"Peppa\";   // string for name\n",
    "let peppaScore = 50;       // starting score\n",
    "let peppaLevel = 1;        // starting level\n",
    "\n",
    "// Step 2: Use operators to update score and level\n",
    "peppaScore = peppaScore + 10;  // increase score by 10\n",
    "peppaLevel = peppaLevel * 2;   // double the level\n",
    "\n",
    "// Step 3: Print results\n",
    "console.log(\"Name:\", peppaName);\n",
    "console.log(\"Score:\", peppaScore);\n",
    "console.log(\"Level:\", peppaLevel);\n"
   ]
  },
  {
   "cell_type": "markdown",
   "id": "3f8a5cbe",
   "metadata": {},
   "source": [
    "## Hack 2: JavaScript - Variable Declaration, Assignment, and Operators\n",
    "Declare variables for Peppa and George's scores using good JavaScript naming conventions. Assign initial values, then use operators to update both scores (e.g., Peppa gets 15 points, George loses 5 points). Print both scores."
   ]
  },
  {
   "cell_type": "code",
   "execution_count": 4,
   "id": "c4c80df3",
   "metadata": {
    "vscode": {
     "languageId": "javascript"
    }
   },
   "outputs": [
    {
     "data": {
      "application/javascript": "\n// Write your code here\n// Declare variables for Peppa and George's scores\n// Use operators to update both scores\n\n\n// Step 1: Declare variables for scores\nlet peppaScore = 40;    // starting score for Peppa\nlet georgeScore = 30;   // starting score for George\n\n// Step 2: Update scores using operators\npeppaScore = peppaScore + 15;  // Peppa earns 15 points\ngeorgeScore = georgeScore - 5; // George loses 5 points\n\n// Step 3: Print updated scores\nconsole.log(\"Peppa's Score:\", peppaScore);\nconsole.log(\"George's Score:\", georgeScore);\n\n",
      "text/plain": [
       "<IPython.core.display.Javascript object>"
      ]
     },
     "metadata": {},
     "output_type": "display_data"
    }
   ],
   "source": [
    "%%js\n",
    "\n",
    "// Write your code here\n",
    "// Declare variables for Peppa and George's scores\n",
    "// Use operators to update both scores\n",
    "\n",
    "\n",
    "// Step 1: Declare variables for scores\n",
    "let peppaScore = 40;    // starting score for Peppa\n",
    "let georgeScore = 30;   // starting score for George\n",
    "\n",
    "// Step 2: Update scores using operators\n",
    "peppaScore = peppaScore + 15;  // Peppa earns 15 points\n",
    "georgeScore = georgeScore - 5; // George loses 5 points\n",
    "\n",
    "// Step 3: Print updated scores\n",
    "console.log(\"Peppa's Score:\", peppaScore);\n",
    "console.log(\"George's Score:\", georgeScore);\n",
    "\n"
   ]
  },
  {
   "cell_type": "markdown",
   "id": "30580c24",
   "metadata": {},
   "source": [
    "## Hack 3: JavaScript - Multiple Assignment and Math Operators\n",
    "Peppa and George both start at level 1. Use a single line to assign both their levels to 5. Then, calculate a combined score by multiplying their levels together and multiplying by 10. Print all results."
   ]
  },
  {
   "cell_type": "code",
   "execution_count": 6,
   "id": "67774ff3",
   "metadata": {
    "vscode": {
     "languageId": "javascript"
    }
   },
   "outputs": [
    {
     "data": {
      "application/javascript": "\n// Write your code here\n// let peppaLevel = 1, georgeLevel = 1;\n// Assign both levels to 5 in one line\n// Calculate combinedScore = peppaLevel * georgeLevel * 10;\n// Print all results\n\n// Step 1: Assign both Peppa and George's levels to 5 in one line\nlet peppaLevel = 5, georgeLevel = 5;\n\n// Step 2: Calculate combined score\nlet combinedScore = (peppaLevel * georgeLevel) * 10;\n\n// Step 3: Print results\nconsole.log(\"Peppa's Level:\", peppaLevel);\nconsole.log(\"George's Level:\", georgeLevel);\nconsole.log(\"Combined Score:\", combinedScore);\n",
      "text/plain": [
       "<IPython.core.display.Javascript object>"
      ]
     },
     "metadata": {},
     "output_type": "display_data"
    }
   ],
   "source": [
    "%%js\n",
    "\n",
    "// Write your code here\n",
    "// let peppaLevel = 1, georgeLevel = 1;\n",
    "// Assign both levels to 5 in one line\n",
    "// Calculate combinedScore = peppaLevel * georgeLevel * 10;\n",
    "// Print all results\n",
    "\n",
    "// Step 1: Assign both Peppa and George's levels to 5 in one line\n",
    "let peppaLevel = 5, georgeLevel = 5;\n",
    "\n",
    "// Step 2: Calculate combined score\n",
    "let combinedScore = (peppaLevel * georgeLevel) * 10;\n",
    "\n",
    "// Step 3: Print results\n",
    "console.log(\"Peppa's Level:\", peppaLevel);\n",
    "console.log(\"George's Level:\", georgeLevel);\n",
    "console.log(\"Combined Score:\", combinedScore);\n"
   ]
  }
 ],
 "metadata": {
  "kernelspec": {
   "display_name": "venv",
   "language": "python",
   "name": "python3"
  },
  "language_info": {
   "codemirror_mode": {
    "name": "ipython",
    "version": 3
   },
   "file_extension": ".py",
   "mimetype": "text/x-python",
   "name": "python",
   "nbconvert_exporter": "python",
   "pygments_lexer": "ipython3",
   "version": "3.12.3"
  }
 },
 "nbformat": 4,
 "nbformat_minor": 5
}
