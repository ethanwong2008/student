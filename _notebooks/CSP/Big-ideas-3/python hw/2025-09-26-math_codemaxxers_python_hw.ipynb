{
 "cells": [
  {
   "cell_type": "raw",
   "id": "6290bcd2",
   "metadata": {
    "vscode": {
     "languageId": "raw"
    }
   },
   "source": [
    "---\n",
    "title: \"Mathematical Operations in Javascript and Python - Hacks\"\n",
    "description: \"Apply your skills of math, logic, and coding.\"\n",
    "layout: post\n",
    "permalink: /javascript/mathematical-expressions/codemaxxers-hw\n",
    "---"
   ]
  },
  {
   "cell_type": "markdown",
   "id": "d98b569e",
   "metadata": {},
   "source": [
    "# Basic Algebraic Math hacks\n",
    "\n",
    "## Q1 (Exponents):\n",
    "### A cube has a side length of 4 units. What is its volume?"
   ]
  },
  {
   "cell_type": "code",
   "execution_count": 4,
   "id": "235ceb13",
   "metadata": {},
   "outputs": [
    {
     "name": "stdout",
     "output_type": "stream",
     "text": [
      "64\n"
     ]
    }
   ],
   "source": [
    "cube = 4\n",
    "volume = (cube ** 3)\n",
    "print(volume)"
   ]
  },
  {
   "cell_type": "markdown",
   "id": "3fb1dd4d",
   "metadata": {},
   "source": [
    "## Q2 (PEMDAS):\n",
    "### Evaluate the expression: \n",
    "\n",
    " (12+8)/2+(3^2)"
   ]
  },
  {
   "cell_type": "code",
   "execution_count": 5,
   "id": "49d712a3",
   "metadata": {},
   "outputs": [
    {
     "name": "stdout",
     "output_type": "stream",
     "text": [
      "19.0\n"
     ]
    }
   ],
   "source": [
    "answer = (12+8)/2 + (3**2)\n",
    "print(answer)"
   ]
  },
  {
   "cell_type": "markdown",
   "id": "fcaa4762",
   "metadata": {},
   "source": [
    "## Q3 (Algorithm): \n",
    "\n",
    "Write Python  code where you define variables and run commands that find the values of operations you apply onto them"
   ]
  },
  {
   "cell_type": "code",
   "execution_count": 6,
   "id": "0a2081a9",
   "metadata": {},
   "outputs": [
    {
     "name": "stdout",
     "output_type": "stream",
     "text": [
      "a + b = 20\n",
      "Average of a and b = 10.0\n",
      "c squared = 9\n",
      "Final result = 19.0\n"
     ]
    }
   ],
   "source": [
    "# Define variables\n",
    "a = 12\n",
    "b = 8\n",
    "c = 3\n",
    "\n",
    "# Perform operations\n",
    "sum_ab = a + b          # addition\n",
    "average_ab = (a + b) / 2   # average\n",
    "square_c = c ** 2       # exponent (c squared)\n",
    "final_result = average_ab + square_c  # full expression\n",
    "\n",
    "# Print results\n",
    "print(\"a + b =\", sum_ab)\n",
    "print(\"Average of a and b =\", average_ab)\n",
    "print(\"c squared =\", square_c)\n",
    "print(\"Final result =\", final_result)\n"
   ]
  },
  {
   "cell_type": "markdown",
   "id": "40a2f9a8",
   "metadata": {},
   "source": [
    "<img src=\"/images/3_3diagram.png\" alt=\"Diagram showing mathematical operations\" style=\"max-width:300px; margin:10px;\">\n"
   ]
  }
 ],
 "metadata": {
  "kernelspec": {
   "display_name": "venv",
   "language": "python",
   "name": "python3"
  },
  "language_info": {
   "codemirror_mode": {
    "name": "ipython",
    "version": 3
   },
   "file_extension": ".py",
   "mimetype": "text/x-python",
   "name": "python",
   "nbconvert_exporter": "python",
   "pygments_lexer": "ipython3",
   "version": "3.12.3"
  }
 },
 "nbformat": 4,
 "nbformat_minor": 5
}
