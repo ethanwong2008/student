{
 "cells": [
  {
   "cell_type": "markdown",
   "id": "intro",
   "metadata": {},
   "source": [
    "Programmer Jokes\n",
    "An array of key-value pairs (JavaScript objects). Each joke has a “complexity” rating—if you understand the ones rated “3,” your teacher will be impressed!"
   ]
  },
  {
   "cell_type": "code",
   "execution_count": 1,
   "id": "prog-jokes",
   "metadata": {
    "vscode": {
     "languageId": "javascript"
    }
   },
   "outputs": [
    {
     "data": {
      "application/javascript": "\nvar compsci_joke_list = [\n    { joke: \"Why do programmers prefer dark mode? Because light attracts bugs.\", complexity: \"1\" },\n    { joke: \"Why do Java developers wear glasses? Because they don't see sharp.\", complexity: \"2\" },\n    { joke: \"How many programmers does it take to change a light bulb? None, that's a hardware problem.\", complexity: \"1\" },\n    { joke: \"Why do Python programmers prefer snake_case? Because they can't C.\", complexity: \"2\" },\n    { joke: \"Why was the JavaScript developer sad? Because he didn't know how to 'null' his feelings.\", complexity: \"3\" },\n    { joke: \"Why do programmers always mix up Christmas and Halloween? Because Oct 31 == Dec 25.\", complexity: \"3\" },\n    { joke: \"Why did the programmer quit his job? Because he didn't get arrays.\", complexity: \"O(n)\" },\n    { joke: \"Why do Linux programmers prefer using the terminal? Because they don't like Windows.\", complexity: \"1\" },\n];\nvar randomIndex = Math.floor(Math.random() * compsci_joke_list.length);\nvar selectedJoke = compsci_joke_list[randomIndex];\nconsole.log(\"Joke #\" + (randomIndex + 1) + \": \" + selectedJoke.joke + \" (Complexity: \" + selectedJoke.complexity + \")\");\n",
      "text/plain": [
       "<IPython.core.display.Javascript object>"
      ]
     },
     "metadata": {},
     "output_type": "display_data"
    }
   ],
   "source": [
    "%%javascript\n",
    "\n",
    "var compsci_joke_list = [\n",
    "    { joke: \"Why do programmers prefer dark mode? Because light attracts bugs.\", complexity: \"1\" },\n",
    "    { joke: \"Why do Java developers wear glasses? Because they don't see sharp.\", complexity: \"2\" },\n",
    "    { joke: \"How many programmers does it take to change a light bulb? None, that's a hardware problem.\", complexity: \"1\" },\n",
    "    { joke: \"Why do Python programmers prefer snake_case? Because they can't C.\", complexity: \"2\" },\n",
    "    { joke: \"Why was the JavaScript developer sad? Because he didn't know how to 'null' his feelings.\", complexity: \"3\" },\n",
    "    { joke: \"Why do programmers always mix up Christmas and Halloween? Because Oct 31 == Dec 25.\", complexity: \"3\" },\n",
    "    { joke: \"Why did the programmer quit his job? Because he didn't get arrays.\", complexity: \"O(n)\" },\n",
    "    { joke: \"Why do Linux programmers prefer using the terminal? Because they don't like Windows.\", complexity: \"1\" },\n",
    "];\n",
    "var randomIndex = Math.floor(Math.random() * compsci_joke_list.length);\n",
    "var selectedJoke = compsci_joke_list[randomIndex];\n",
    "console.log(\"Joke #\" + (randomIndex + 1) + \": \" + selectedJoke.joke + \" (Complexity: \" + selectedJoke.complexity + \")\");"
   ]
  },
  {
   "cell_type": "markdown",
   "id": "acct-title",
   "metadata": {},
   "source": [
    "Accountant Jokes\n",
    "A simpler array of strings—these jokes are just plain text, not JavaScript objects."
   ]
  },
  {
   "cell_type": "code",
   "execution_count": 1,
   "id": "acct-jokes",
   "metadata": {
    "vscode": {
     "languageId": "javascript"
    }
   },
   "outputs": [
    {
     "data": {
      "application/javascript": "\nvar accounting_joke_list = [\n    \"Why did the accountant cross the road? To bore the people on the other side.\",\n    \"What do accountants do when they're constipated? They work it out with a pencil.\",\n    \"How does an accountant stay out of debt? He learns to act his wage.\",\n    \"Why did the accountant stare at his glass of orange juice for three hours? Because on the box it said 'concentrate'.\",\n    \"Why did the accountant get promoted? Because he knew how to balance his work and play.\",\n    \"Why did the accountant go broke? Because he lost his balance.\",\n    \"Why did the accountant get a job at the bakery? Because he was good at making dough.\",\n    \"Why did the accountant get a job at the zoo? Because he was good with cheetahs.\",\n    \"Why did the accountant get a job at the library? Because he was good at keeping books.\",\n    \"Why did the accountant get a job at the circus? Because he was good at juggling numbers.\",\n    \"Why did the accountant get a job at the gym? Because he was good at working out the numbers.\",\n    \"Why did the accountant get a job at the farm? Because he was good at counting the chickens before they hatched.\"\n]\nvar randomIndex = Math.floor(Math.random() * accounting_joke_list.length);\nconsole.log(\"Joke #\" + (randomIndex + 1) + \": \" + accounting_joke_list[randomIndex]);\n",
      "text/plain": [
       "<IPython.core.display.Javascript object>"
      ]
     },
     "metadata": {},
     "output_type": "display_data"
    }
   ],
   "source": [
    "%%javascript\n",
    "\n",
    "var accounting_joke_list = [\n",
    "    \"Why did the accountant cross the road? To bore the people on the other side.\",\n",
    "    \"What do accountants do when they're constipated? They work it out with a pencil.\",\n",
    "    \"How does an accountant stay out of debt? He learns to act his wage.\",\n",
    "    \"Why did the accountant stare at his glass of orange juice for three hours? Because on the box it said 'concentrate'.\",\n",
    "    \"Why did the accountant get promoted? Because he knew how to balance his work and play.\",\n",
    "    \"Why did the accountant go broke? Because he lost his balance.\",\n",
    "    \"Why did the accountant get a job at the bakery? Because he was good at making dough.\",\n",
    "    \"Why did the accountant get a job at the zoo? Because he was good with cheetahs.\",\n",
    "    \"Why did the accountant get a job at the library? Because he was good at keeping books.\",\n",
    "    \"Why did the accountant get a job at the circus? Because he was good at juggling numbers.\",\n",
    "    \"Why did the accountant get a job at the gym? Because he was good at working out the numbers.\",\n",
    "    \"Why did the accountant get a job at the farm? Because he was good at counting the chickens before they hatched.\"\n",
    "]\n",
    "var randomIndex = Math.floor(Math.random() * accounting_joke_list.length);\n",
    "console.log(\"Joke #\" + (randomIndex + 1) + \": \" + accounting_joke_list[randomIndex]);"
   ]
  },
  {
   "cell_type": "markdown",
   "id": "sports-title",
   "metadata": {},
   "source": [
    "### Sports Jokes\n",
    "\n",
    "Another set of fun jokes, this time about sports!"
   ]
  },
  {
   "cell_type": "code",
   "execution_count": 3,
   "id": "sports-jokes",
   "metadata": {
    "vscode": {
     "languageId": "javascript"
    }
   },
   "outputs": [
    {
     "data": {
      "application/javascript": "\nvar sports_jokes = [\n  { joke: \"Why can’t basketball players go on vacation? They’d get called for traveling.\", complexity: \"1\" },\n  { joke: \"Why did the baseball player get arrested? He stole second base.\", complexity: \"1\" },\n  { joke: \"Why do soccer players do well in school? Because they know how to use their heads.\", complexity: \"2\" },\n  { joke: \"Why was the football stadium so hot? All the fans left.\", complexity: \"2\" },\n  { joke: \"Why did the golfer bring two pairs of pants? In case he got a hole in one.\", complexity: \"3\" }\n];\nvar idx = Math.floor(Math.random() * sports_jokes.length);\nvar chosen = sports_jokes[idx];\nconsole.log(\"Sports Joke #\" + (idx + 1) + \": \" + chosen.joke + \" (Complexity: \" + chosen.complexity + \")\");\n",
      "text/plain": [
       "<IPython.core.display.Javascript object>"
      ]
     },
     "metadata": {},
     "output_type": "display_data"
    }
   ],
   "source": [
    "%%javascript\n",
    "\n",
    "var sports_jokes = [\n",
    "  { joke: \"Why can’t basketball players go on vacation? They’d get called for traveling.\", complexity: \"1\" },\n",
    "  { joke: \"Why did the baseball player get arrested? He stole second base.\", complexity: \"1\" },\n",
    "  { joke: \"Why do soccer players do well in school? Because they know how to use their heads.\", complexity: \"2\" },\n",
    "  { joke: \"Why was the football stadium so hot? All the fans left.\", complexity: \"2\" },\n",
    "  { joke: \"Why did the golfer bring two pairs of pants? In case he got a hole in one.\", complexity: \"3\" }\n",
    "];\n",
    "var idx = Math.floor(Math.random() * sports_jokes.length);\n",
    "var chosen = sports_jokes[idx];\n",
    "console.log(\"Sports Joke #\" + (idx + 1) + \": \" + chosen.joke + \" (Complexity: \" + chosen.complexity + \")\");"
   ]
  }
 ],
 "metadata": {
  "kernelspec": {
   "display_name": "venv",
   "language": "python",
   "name": "python3"
  },
  "language_info": {
   "codemirror_mode": {
    "name": "ipython",
    "version": 3
   },
   "file_extension": ".py",
   "mimetype": "text/x-python",
   "name": "python",
   "nbconvert_exporter": "python",
   "pygments_lexer": "ipython3",
   "version": "3.12.3"
  }
 },
 "nbformat": 4,
 "nbformat_minor": 5
}
