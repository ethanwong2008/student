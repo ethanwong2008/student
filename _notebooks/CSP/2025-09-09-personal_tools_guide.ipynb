{
 "cells": [
  {
   "cell_type": "raw",
   "id": "header",
   "metadata": {
    "vscode": {
     "languageId": "raw"
    }
   },
   "source": [
    "---\n",
    "toc: true\n",
    "layout: post\n",
    "data: tools\n",
    "title: Personal Troubleshooting Guide\n",
    "description: Quick recovery guide for GitHub config, directories, virtual environments, VS Code launch, and version checks.\n",
    "permalink: /tools/trouble-summary\n",
    "breadcrumb: /tools\n",
    "breadcrumbs: true\n",
    "---"
   ]
  },
  {
   "cell_type": "markdown",
   "id": "github-config",
   "metadata": {},
   "source": [
    "## GitHub Commit / Config Recovery\n",
    "\n",
    "- Use these commands if git commit is failing\n",
    "\n",
    "```bash\n",
    "git config --list` # shows your GitHub username + email.  \n",
    "```\n",
    "- This checks if you have or your current github username and email\n",
    "\n",
    "**If your information is incorrect run this code to change either one**  \n",
    "\n",
    "```bash\n",
    "git config --global user.name \"ethanwong2008\"        # change to your GitHub ID\n",
    "git config --global user.email \"ewong3883@gmail.com\"  # change to your Email\n",
    "```\n",
    "\n",
    "---"
   ]
  },
  {
   "cell_type": "markdown",
   "id": "directory-clone",
   "metadata": {},
   "source": [
    "## Directory + Clone Recovery\n",
    "\n",
    "- Make sure you can cd into your repository\n",
    "- Make sure you can ls to access and see your folders\n",
    "\n",
    "### Navigate\n",
    "\n",
    "```bash\n",
    "cd ~/opencs\n",
    "```\n",
    "- Change your directory name\n",
    "- ie. opencs\n",
    "\n",
    "**If cd fails, run:**\n",
    "\n",
    "```bash\n",
    "mkdir ~/opencs\n",
    "cd ~/opencs\n",
    "```\n",
    "- mkdir creates new directory\n",
    "- ie. this line shows the creation of directory opencs and cd into it\n",
    "\n",
    "### Check for Repo Folder\n",
    "\n",
    "```bash\n",
    "ls # lshould show \"student\"\n",
    "```\n",
    "- ls lists the folders within the directory\n",
    "- ie. when you run ls in your repository the \"student\" folder should show up\n",
    "\n",
    "**If missing, run:**\n",
    "\n",
    "```bash\n",
    "git clone https://github.com/ethanwong2008/student.git # change to personal location of repo\n",
    "```\n",
    "- This allows you the \"clone\" and github respository into your directory\n",
    "- ie. Cloning personal studnet repository into directory\n",
    "\n",
    "---"
   ]
  },
  {
   "cell_type": "markdown",
   "id": "venv",
   "metadata": {},
   "source": [
    "## Virtual Environment Recovery\n",
    "\n",
    "- Your terminal prompt shows (venv)\n",
    "\n",
    "### Run Vitual Environment\n",
    "\n",
    "```bash\n",
    "source venv/bin/activate\n",
    "```\n",
    "\n",
    "**If it fails**\n",
    "\n",
    "```bash\n",
    "./scripts/venv.sh\n",
    "```\n",
    "- Now you can run ```code . ``` to access your personal workspace(VSCode)\n",
    "\n",
    "**Verify VSCode launch**\n",
    "\n",
    "- Terminal and presence of `(venv)` prompt\n",
    "- Open a IPYNB notebook and select the Python kernel with the `venv` prefix to make it works\n",
    "\n",
    "\n",
    "---"
   ]
  },
  {
   "cell_type": "markdown",
   "id": "version-checks",
   "metadata": {},
   "source": [
    "## Version Checks\n",
    "\n",
    "Run this script to verify tool versions (Python, pip, Ruby, Bundler, Gems, Jupyter, kernels, Git config):"
   ]
  },
  {
   "cell_type": "code",
   "execution_count": 1,
   "id": "version-script",
   "metadata": {
    "vscode": {
     "languageId": "shellscript"
    }
   },
   "outputs": [
    {
     "name": "stdout",
     "output_type": "stream",
     "text": [
      "### Command: python --version\n",
      "Python 3.12.3\n",
      "### Command: pip --version\n",
      "pip 24.0 from /home/kasm-user/opencs/student/venv/lib/python3.12/site-packages/pip (python 3.12)\n",
      "### Command: ruby -v\n",
      "ruby 3.2.3 (2024-01-18 revision 52bb2ac0a6) [x86_64-linux-gnu]\n",
      "### Command: bundle -v\n",
      "Bundler version 2.4.20\n",
      "### Command: gem -v\n",
      "3.4.20\n",
      "### Command: jupyter --version\n",
      "Selected Jupyter core packages...\n",
      "IPython          : 9.4.0\n",
      "ipykernel        : 6.30.1\n",
      "ipywidgets       : not installed\n",
      "jupyter_client   : 8.6.3\n",
      "jupyter_core     : 5.8.1\n",
      "jupyter_server   : 2.16.0\n",
      "jupyterlab       : 4.4.6\n",
      "nbclient         : 0.10.2\n",
      "nbconvert        : 7.16.6\n",
      "nbformat         : 5.10.4\n",
      "notebook         : 7.4.5\n",
      "qtconsole        : not installed\n",
      "traitlets        : 5.14.3\n",
      "### Command: jupyter kernelspec list\n",
      "Available kernels:\n",
      "  python3    /home/kasm-user/opencs/student/venv/share/jupyter/kernels/python3\n",
      "### Command: git config --global user.name\n",
      "ethanwong2008\n",
      "### Command: git config --global user.email\n",
      "ewong3883@gmail.com\n"
     ]
    }
   ],
   "source": [
    "%%script bash\n",
    "commands=(\"python --version\" \"pip --version\" \"ruby -v\" \"bundle -v\" \"gem -v\" \"jupyter --version\" \"jupyter kernelspec list\" \"git config --global user.name\" \"git config --global user.email\")\n",
    "\n",
    "for cmd in \"${commands[@]}\"; do\n",
    "  echo \"### Command: $cmd\"\n",
    "  bash -c \"$cmd\"\n",
    "done"
   ]
  }
 ],
 "metadata": {
  "kernelspec": {
   "display_name": "venv",
   "language": "python",
   "name": "python3"
  },
  "language_info": {
   "codemirror_mode": {
    "name": "ipython",
    "version": 3
   },
   "file_extension": ".py",
   "mimetype": "text/x-python",
   "name": "python",
   "nbconvert_exporter": "python",
   "pygments_lexer": "ipython3",
   "version": "3.12.3"
  }
 },
 "nbformat": 4,
 "nbformat_minor": 5
}
