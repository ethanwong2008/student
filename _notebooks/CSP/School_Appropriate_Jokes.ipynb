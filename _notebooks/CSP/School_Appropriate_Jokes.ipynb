{
  "cells": [
    {
      "cell_type": "markdown",
      "metadata": {},
      "source": [
        "# School\u2011Appropriate Jokes Notebook\n",
        "\n",
        "This notebook demonstrates how to store and print jokes from JavaScript arrays.\n",
        "It mirrors your class example but uses **different, school\u2011appropriate jokes**.\n",
        "\n",
        "**How to use:**\n",
        "1. Run the `%%javascript` cells to see a random joke in the browser console (open dev tools).\n",
        "2. Edit the arrays to add/replace jokes.\n",
        "3. Run the Bash diagnostics cell if anything seems off in your Jupyter environment.\n"
      ]
    },
    {
      "cell_type": "markdown",
      "metadata": {},
      "source": [
        "## Math Jokes (Objects with a `complexity` rating)\n",
        "If you understand the ones rated **3**, your teacher will be impressed!"
      ]
    },
    {
      "cell_type": "code",
      "metadata": {
        "language": "javascript"
      },
      "source": [
        "%%javascript\n",
        "\n",
        "var math_joke_list = [\n",
        "  { joke: \"Why was the equal sign so humble? Because it knew it wasn't < or > anyone else.\", complexity: \"1\" },\n",
        "  { joke: \"Parallel lines have so much in common... it's a shame they'll never meet.\", complexity: \"2\" },\n",
        "  { joke: \"Why did the obtuse angle go to the beach? Because it was over 90 degrees.\", complexity: \"1\" },\n",
        "  { joke: \"I\u2019ll do algebra, I\u2019ll do calculus, but graphing is where I draw the line.\", complexity: \"2\" },\n",
        "  { joke: \"Why do mathematicians confuse Halloween and Christmas? Because Oct 31 = Dec 25 (base conversions).\", complexity: \"3\" },\n",
        "  { joke: \"Why did the student wear glasses in math class? To improve their *di\u2011vision*.\", complexity: \"1\" },\n",
        "  { joke: \"My math teacher called me average\u2014how mean!\", complexity: \"2\" },\n",
        "  { joke: \"A pun is its own *reflexive* property: it reflects badly on the teller.\", complexity: \"3\" }\n",
        "];\n",
        "var idx1 = Math.floor(Math.random() * math_joke_list.length);\n",
        "var selected = math_joke_list[idx1];\n",
        "console.log(\"Math Joke #\" + (idx1 + 1) + \": \" + selected.joke + \" (Complexity: \" + selected.complexity + \")\");\n"
      ],
      "execution_count": null,
      "outputs": []
    },
    {
      "cell_type": "markdown",
      "metadata": {},
      "source": [
        "## Science Jokes (Simpler array of strings)"
      ]
    },
    {
      "cell_type": "code",
      "metadata": {
        "language": "javascript"
      },
      "source": [
        "%%javascript\n",
        "\n",
        "var science_joke_list = [\n",
        "  \"Never trust an atom\u2014they make up everything.\",\n",
        "  \"Why did the biologist look forward to casual Fridays? They got to wear genes.\",\n",
        "  \"What do you do with a sick chemist? If you can\u2019t helium or curium, you might as well barium.\",\n",
        "  \"The photon checked into a hotel. The clerk asked if it needed help with luggage. \u2018No thanks, I\u2019m traveling light.\u2019\",\n",
        "  \"I told a chemistry joke... there was no reaction.\",\n",
        "  \"Why was the physics book so sad? Too many problems.\",\n",
        "  \"Geology rocks, but geography is where it\u2019s at.\"\n",
        "];\n",
        "var idx2 = Math.floor(Math.random() * science_joke_list.length);\n",
        "console.log(\"Science Joke #\" + (idx2 + 1) + \": \" + science_joke_list[idx2]);\n"
      ],
      "execution_count": null,
      "outputs": []
    },
    {
      "cell_type": "markdown",
      "metadata": {},
      "source": [
        "## Literature Jokes (Simpler array of strings)"
      ]
    },
    {
      "cell_type": "code",
      "metadata": {
        "language": "javascript"
      },
      "source": [
        "%%javascript\n",
        "\n",
        "var literature_joke_list = [\n",
        "  \"I\u2019m reading a book about anti\u2011gravity. It\u2019s impossible to put down\u2014wait, wrong shelf!\",\n",
        "  \"Why did the comma break up with the apostrophe? It needed some space.\",\n",
        "  \"The past, present, and future walked into a bar. It was tense.\",\n",
        "  \"I used to be a baker, then I couldn\u2019t make enough *dough*. Now I write puns\u2014my editor says they\u2019re crumby.\",\n",
        "  \"Why did the student bring a ladder to English class? To reach the *high* notes in poetry.\"\n",
        "];\n",
        "var idx3 = Math.floor(Math.random() * literature_joke_list.length);\n",
        "console.log(\"Literature Joke #\" + (idx3 + 1) + \": \" + literature_joke_list[idx3]);\n"
      ],
      "execution_count": null,
      "outputs": []
    },
    {
      "cell_type": "markdown",
      "metadata": {},
      "source": [
        "## Quick Environment Diagnostics (optional)"
      ]
    },
    {
      "cell_type": "code",
      "metadata": {
        "language": "bash"
      },
      "source": [
        "%%script bash\n",
        "commands=(\"python --version\" \"jupyter --version\" \"jupyter kernelspec list\")\n",
        "for cmd in \"${commands[@]}\"; do\n",
        "  echo \"### Command: $cmd\"\n",
        "  bash -c \"$cmd\"\n",
        "done\n"
      ],
      "execution_count": null,
      "outputs": []
    },
    {
      "cell_type": "markdown",
      "metadata": {},
      "source": [
        "## Make Your Own Section\n",
        "Create a new cell with your own jokes (PG\u201113). Pick a topic you like\u2014sports, gaming, movies, etc.\n",
        "\n",
        "### Template (copy into a new cell and edit):\n",
        "```javascript\n",
        "%%javascript\n",
        "var my_topic_jokes = [\n",
        "  // Use strings OR objects like { joke: \"text\", complexity: \"1\" }\n",
        "  { joke: \"<your joke here>\", complexity: \"1\" },\n",
        "  { joke: \"<another>\", complexity: \"2\" }\n",
        "];\n",
        "var r = Math.floor(Math.random() * my_topic_jokes.length);\n",
        "var j = my_topic_jokes[r];\n",
        "console.log(\"My Topic Joke #\" + (r + 1) + \": \" + (j.joke || j) + (j.complexity ? \" (Complexity: \" + j.complexity + \")\" : \"\"));\n",
        "```\n"
      ]
    }
  ],
  "metadata": {
    "kernelspec": {
      "display_name": "Python 3",
      "language": "python",
      "name": "python3"
    },
    "language_info": {
      "name": "python",
      "version": "3.12"
    }
  },
  "nbformat": 4,
  "nbformat_minor": 5
}